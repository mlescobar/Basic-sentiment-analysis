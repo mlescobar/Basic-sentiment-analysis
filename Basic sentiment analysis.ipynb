{
 "cells": [
  {
   "cell_type": "markdown",
   "metadata": {},
   "source": [
    "# Basic sentyment analysis\n",
    "\n",
    "We'll implement a sentiment analysis program that uses a pre-trained model, it uses Naive Bayes and TFIDF to pre-process the text.REFERENCIA](https://github.com/aylliote/senti-py)"
   ]
  },
  {
   "cell_type": "code",
   "execution_count": 1,
   "metadata": {
    "scrolled": true
   },
   "outputs": [],
   "source": [
    "from nltk.sentiment.vader import SentimentIntensityAnalyzer\n",
    "import pandas as pd\n",
    "\n",
    "sid = SentimentIntensityAnalyzer()\n",
    "\n",
    "#read a csv, pandas make it a data frame\n",
    "df = pd.read_csv('messages.csv')\n",
    "\n",
    "#apply.() executes a function for each value in a column resulting in a new one. \n",
    "#A function is generated for each value in the \"message\" column and saved in a new \"feelings\" column\n",
    "df[\"sentimiento\"] = df[\"mensaje\"].apply(lambda i: sid.polarity_scores(i)['compound'])\n",
    "\n",
    "#to_csv() saves a dataframe as acsv\n",
    "df.to_csv(\"messagesandsent.csv\")"
   ]
  },
  {
   "cell_type": "code",
   "execution_count": null,
   "metadata": {},
   "outputs": [],
   "source": []
  }
 ],
 "metadata": {
  "kernelspec": {
   "display_name": "Python 3",
   "language": "python",
   "name": "python3"
  },
  "language_info": {
   "codemirror_mode": {
    "name": "ipython",
    "version": 3
   },
   "file_extension": ".py",
   "mimetype": "text/x-python",
   "name": "python",
   "nbconvert_exporter": "python",
   "pygments_lexer": "ipython3",
   "version": "3.8.5"
  }
 },
 "nbformat": 4,
 "nbformat_minor": 4
}
